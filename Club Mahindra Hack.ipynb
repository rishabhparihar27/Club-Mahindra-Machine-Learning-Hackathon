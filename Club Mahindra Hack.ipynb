{
 "cells": [
  {
   "cell_type": "code",
   "execution_count": 435,
   "metadata": {},
   "outputs": [],
   "source": [
    "import pandas as pd\n",
    "import numpy as np\n",
    "import xgboost as xgb\n",
    "import lightgbm as lgb\n",
    "import catboost\n",
    "from sklearn.ensemble import RandomForestRegressor\n",
    "from sklearn.model_selection import train_test_split\n",
    "from sklearn.preprocessing import LabelEncoder\n",
    "from sklearn.linear_model import LinearRegression\n",
    "from sklearn.metrics import mean_squared_error"
   ]
  },
  {
   "cell_type": "code",
   "execution_count": 436,
   "metadata": {},
   "outputs": [],
   "source": [
    "##Reading train and test \n",
    "train = pd.read_csv(\"train.csv\")\n",
    "test = pd.read_csv(\"test.csv\")\n",
    "sub = pd.read_csv(\"sample_submission.csv\")"
   ]
  },
  {
   "cell_type": "code",
   "execution_count": 437,
   "metadata": {},
   "outputs": [],
   "source": [
    "test[\"amount_spent_per_room_night_scaled\"] = 7\n",
    "train[\"data\"] = \"train\"\n",
    "test[\"data\"] = \"test\""
   ]
  },
  {
   "cell_type": "code",
   "execution_count": 438,
   "metadata": {},
   "outputs": [],
   "source": [
    "all1 = pd.concat([train,test] , axis=0)"
   ]
  },
  {
   "cell_type": "code",
   "execution_count": 439,
   "metadata": {},
   "outputs": [],
   "source": [
    "alldata = all1.copy()"
   ]
  },
  {
   "cell_type": "code",
   "execution_count": 440,
   "metadata": {},
   "outputs": [],
   "source": [
    "alldata[\"booking_date\"] = pd.to_datetime(alldata[\"booking_date\"] , format=\"%d/%m/%y\")\n",
    "alldata[\"checkin_date\"] = pd.to_datetime(alldata[\"checkin_date\"] , format=\"%d/%m/%y\")\n",
    "alldata[\"checkout_date\"] = pd.to_datetime(alldata[\"checkout_date\"] , format=\"%d/%m/%y\")"
   ]
  },
  {
   "cell_type": "code",
   "execution_count": 441,
   "metadata": {},
   "outputs": [],
   "source": [
    "checkins = alldata.groupby([\"resort_id\",\"checkin_date\"])[\"checkin_date\"].count().reset_index(name=\"checkin_count\")\n",
    "checkouts = alldata.groupby([\"resort_id\",\"checkout_date\"])[\"checkout_date\"].count().reset_index(name=\"checkout_count\")\n",
    "checkouts.columns = [\"resort_id\",\"checkin_date\",\"checkout_count\"]\n",
    "first_visit_date = alldata.groupby(\"memberid\")[\"checkin_date\"].min().reset_index(name=\"first_visit_date\")"
   ]
  },
  {
   "cell_type": "code",
   "execution_count": 442,
   "metadata": {},
   "outputs": [],
   "source": [
    "alldata = pd.merge(left=alldata,right=checkins,how=\"left\",on=[\"resort_id\",\"checkin_date\"])\n",
    "alldata = pd.merge(left=alldata,right=checkouts,how=\"left\",on=[\"resort_id\",\"checkin_date\"])\n",
    "alldata = pd.merge(left=alldata,right=first_visit_date,how=\"left\",on=[\"memberid\"])\n",
    "#alldata = pd.merge(left=alldata,right=temp,how=\"left\",on=[\"resort_id\",\"checkin_date\"])"
   ]
  },
  {
   "cell_type": "code",
   "execution_count": 443,
   "metadata": {},
   "outputs": [
    {
     "data": {
      "text/plain": [
       "Index(['reservation_id', 'booking_date', 'checkin_date', 'checkout_date',\n",
       "       'channel_code', 'main_product_code', 'numberofadults',\n",
       "       'numberofchildren', 'persontravellingid', 'resort_region_code',\n",
       "       'resort_type_code', 'room_type_booked_code', 'roomnights',\n",
       "       'season_holidayed_code', 'state_code_residence', 'state_code_resort',\n",
       "       'total_pax', 'member_age_buckets', 'booking_type_code', 'memberid',\n",
       "       'cluster_code', 'reservationstatusid_code', 'resort_id',\n",
       "       'amount_spent_per_room_night_scaled', 'data', 'checkin_count',\n",
       "       'checkout_count', 'first_visit_date'],\n",
       "      dtype='object')"
      ]
     },
     "execution_count": 443,
     "metadata": {},
     "output_type": "execute_result"
    }
   ],
   "source": [
    "alldata.columns"
   ]
  },
  {
   "cell_type": "code",
   "execution_count": 444,
   "metadata": {},
   "outputs": [],
   "source": [
    "alldata[\"days_before_checkin\"] = (alldata[\"checkin_date\"] - alldata[\"booking_date\"]).dt.days\n",
    "alldata[\"days_since_first_visit\"] = (alldata[\"checkin_date\"] - alldata[\"first_visit_date\"]).dt.days\n",
    "alldata[\"Room_Nights_Per_Head\"] = alldata[\"roomnights\"]/(alldata[\"numberofadults\"]+alldata[\"numberofchildren\"])\n",
    "alldata[\"checkin_year\"] = alldata[\"checkin_date\"].dt.year\n",
    "alldata[\"checkin_weekday\"] = alldata[\"checkin_date\"].dt.weekday\n",
    "alldata[\"weekend_checkin_flag\"] = np.where(alldata[\"checkin_weekday\"] >=5,1,0)\n",
    "alldata[\"checkin_month\"] = alldata[\"checkin_date\"].dt.month\n",
    "alldata[\"checkin_monthday\"] = alldata[\"checkin_date\"].dt.day\n",
    "alldata[\"checkin_week_year\"] = alldata[\"checkin_date\"].dt.week\n",
    "alldata[\"booking_month\"] = alldata[\"booking_date\"].dt.month\n",
    "alldata[\"booking_weekday\"] = alldata[\"booking_date\"].dt.weekday\n",
    "alldata[\"booking_monthday\"] = alldata[\"booking_date\"].dt.day\n",
    "alldata[\"checkout_weekday\"] = alldata[\"checkout_date\"].dt.weekday"
   ]
  },
  {
   "cell_type": "code",
   "execution_count": 445,
   "metadata": {},
   "outputs": [],
   "source": [
    "alldata[\"Visits_Before\"] = alldata.groupby(\"memberid\")[\"checkin_date\"].rank(ascending=True) - 1\n",
    "alldata.sort_values(by = [\"memberid\" , \"checkin_date\"] , ascending=[True , True] , inplace=True)\n",
    "alldata[\"Days_Since_Last_Visit\"] = (alldata[\"checkin_date\"] - alldata.groupby(\"memberid\")[\"checkin_date\"].shift(1)).dt.days\n",
    "alldata[\"Days_Since_Last_Visit\"] = np.where(alldata[\"Days_Since_Last_Visit\"].isnull() , -1 , alldata[\"Days_Since_Last_Visit\"])"
   ]
  },
  {
   "cell_type": "code",
   "execution_count": 446,
   "metadata": {},
   "outputs": [],
   "source": [
    "##Creating features - roomnights consumed in a year so far by a member\n",
    "##Total roomnights consumed so far\n",
    "alldata[\"roomnights_this_year_cumsum\"]=alldata.groupby([\"memberid\",\"checkin_year\"])['roomnights'].cumsum()\n",
    "alldata[\"roomnights_cumsum\"]=alldata.groupby([\"memberid\"])['roomnights'].cumsum()\n",
    "alldata[\"resort_level_rank_by_roomnights\"] = alldata.groupby([\"resort_id\",\"checkin_date\"])['roomnights'].rank(ascending=False)"
   ]
  },
  {
   "cell_type": "code",
   "execution_count": 448,
   "metadata": {},
   "outputs": [],
   "source": [
    "alldata[\"Resort_Same_As_Last_One\"] = (alldata[\"resort_id\"] == alldata.groupby(\"memberid\")[\"resort_id\"].shift(1))*1\n",
    "alldata[\"state_code_residence\"] = np.where(alldata[\"state_code_residence\"].isnull(),100,alldata[\"state_code_residence\"])\n",
    "alldata[\"state_code_resort\"] = np.where(alldata[\"state_code_resort\"].isnull(),100,alldata[\"state_code_resort\"])\n",
    "alldata[\"Residence_to_resort\"] = alldata[\"state_code_residence\"].astype(str) + \"_\" + alldata[\"state_code_resort\"].astype(str)"
   ]
  },
  {
   "cell_type": "code",
   "execution_count": 449,
   "metadata": {},
   "outputs": [
    {
     "data": {
      "text/plain": [
       "Index(['reservation_id', 'booking_date', 'checkin_date', 'checkout_date',\n",
       "       'channel_code', 'main_product_code', 'numberofadults',\n",
       "       'numberofchildren', 'persontravellingid', 'resort_region_code',\n",
       "       'resort_type_code', 'room_type_booked_code', 'roomnights',\n",
       "       'season_holidayed_code', 'state_code_residence', 'state_code_resort',\n",
       "       'total_pax', 'member_age_buckets', 'booking_type_code', 'memberid',\n",
       "       'cluster_code', 'reservationstatusid_code', 'resort_id',\n",
       "       'amount_spent_per_room_night_scaled', 'data', 'checkin_count',\n",
       "       'checkout_count', 'first_visit_date', 'days_before_checkin',\n",
       "       'days_since_first_visit', 'Room_Nights_Per_Head', 'checkin_year',\n",
       "       'checkin_weekday', 'weekend_checkin_flag', 'checkin_month',\n",
       "       'checkin_monthday', 'checkin_week_year', 'booking_month',\n",
       "       'booking_weekday', 'booking_monthday', 'checkout_weekday',\n",
       "       'Visits_Before', 'Days_Since_Last_Visit', 'roomnights_this_year_cumsum',\n",
       "       'roomnights_cumsum', 'resort_level_rank_by_roomnights',\n",
       "       'rank_by_roomnights', 'adult_plus_children',\n",
       "       'resort_level_rank_by_ppl_count', 'rank_by_ppl_count',\n",
       "       'resort_level_rank_by_adult_count', 'rank_by_adult_count',\n",
       "       'Resort_Same_As_Last_One', 'Residence_to_resort'],\n",
       "      dtype='object')"
      ]
     },
     "execution_count": 449,
     "metadata": {},
     "output_type": "execute_result"
    }
   ],
   "source": [
    "alldata.columns"
   ]
  },
  {
   "cell_type": "code",
   "execution_count": 450,
   "metadata": {},
   "outputs": [],
   "source": [
    "###Getting Count Vars\n",
    "def getCount(data,column,target):\n",
    "    \n",
    "    group = data.groupby(column)[target].agg([\"count\"])\n",
    "    group = group.to_dict()['count']\n",
    "    \n",
    "    new_var = column+\"_\"+\"count_var\"\n",
    "    data[new_var] = data[column]\n",
    "    data[new_var] = data[new_var].map(group)\n",
    "\n",
    "def getTargetMean(data,column,target):\n",
    "    \n",
    "    group = data[data[\"data\"]==\"train\"].groupby(column)[target].agg([\"mean\"])\n",
    "    group = group.to_dict()['mean']\n",
    "    \n",
    "    new_var = column+\"_\"+\"mean_encoding_var\"\n",
    "    data[new_var] = data[column]\n",
    "    data[new_var] = data[new_var].map(group)"
   ]
  },
  {
   "cell_type": "code",
   "execution_count": 451,
   "metadata": {},
   "outputs": [],
   "source": [
    "getCount(data=alldata,column=\"resort_id\",target=\"amount_spent_per_room_night_scaled\")\n",
    "getTargetMean(data=alldata,column=\"resort_id\",target=\"amount_spent_per_room_night_scaled\")\n",
    "getCount(data=alldata,column=\"member_age_buckets\",target=\"amount_spent_per_room_night_scaled\")\n",
    "getTargetMean(data=alldata,column=\"member_age_buckets\",target=\"amount_spent_per_room_night_scaled\")\n",
    "getCount(data=alldata,column=\"Residence_to_resort\",target=\"amount_spent_per_room_night_scaled\")\n",
    "getTargetMean(data=alldata,column=\"Residence_to_resort\",target=\"amount_spent_per_room_night_scaled\")"
   ]
  },
  {
   "cell_type": "code",
   "execution_count": 452,
   "metadata": {},
   "outputs": [],
   "source": [
    "cat_vars = [\"channel_code\" , \"main_product_code\" , \"persontravellingid\" , \"resort_region_code\" , \"resort_type_code\"\n",
    "           ,\"room_type_booked_code\" , \"season_holidayed_code\" , \"state_code_residence\" , \"state_code_resort\"\n",
    "           ,\"cluster_code\" , \"reservationstatusid_code\",\"member_age_buckets\"]"
   ]
  },
  {
   "cell_type": "code",
   "execution_count": 453,
   "metadata": {},
   "outputs": [],
   "source": [
    "alldata = pd.get_dummies(alldata,dummy_na=True,columns = cat_vars,dtype=\"int\") "
   ]
  },
  {
   "cell_type": "code",
   "execution_count": 454,
   "metadata": {},
   "outputs": [],
   "source": [
    "lb = LabelEncoder()\n",
    "alldata[\"resort_id\"] = lb.fit_transform(alldata[\"resort_id\"])\n",
    "alldata[\"Residence_to_resort\"] = lb.fit_transform(alldata[\"Residence_to_resort\"])"
   ]
  },
  {
   "cell_type": "code",
   "execution_count": 455,
   "metadata": {},
   "outputs": [],
   "source": [
    "tr = alldata[alldata[\"data\"] == \"train\"]\n",
    "ts = alldata[alldata[\"data\"] == \"test\"]\n",
    "\n",
    "X_train = tr.drop([\"reservation_id\",\"booking_date\",\"checkin_date\",\"checkout_date\",\"memberid\",\"data\",\"first_visit_date\"\n",
    "                  ,\"amount_spent_per_room_night_scaled\"],axis=1)\n",
    "Y_train = tr.amount_spent_per_room_night_scaled.values\n",
    "\n",
    "X_test = ts.drop([\"booking_date\",\"checkin_date\",\"checkout_date\",\"memberid\",\"data\",\"first_visit_date\"\n",
    "                  ,\"amount_spent_per_room_night_scaled\"]\n",
    "        ,axis=1)"
   ]
  },
  {
   "cell_type": "code",
   "execution_count": 457,
   "metadata": {},
   "outputs": [
    {
     "data": {
      "text/plain": [
       "(155, 156)"
      ]
     },
     "execution_count": 457,
     "metadata": {},
     "output_type": "execute_result"
    }
   ],
   "source": [
    "len(X_train.columns) , len(X_test.columns)"
   ]
  },
  {
   "cell_type": "code",
   "execution_count": 279,
   "metadata": {},
   "outputs": [
    {
     "name": "stdout",
     "output_type": "stream",
     "text": [
      "[0]\ttrain-rmse:6.58826+0.000481338\ttest-rmse:6.58822+0.00144898\n",
      "[50]\ttrain-rmse:1.0039+0.00140075\ttest-rmse:1.00928+0.00405423\n",
      "[100]\ttrain-rmse:0.982397+0.00324216\ttest-rmse:0.992685+0.00371888\n",
      "[150]\ttrain-rmse:0.971407+0.00268447\ttest-rmse:0.986004+0.00273211\n",
      "[200]\ttrain-rmse:0.963189+0.00246652\ttest-rmse:0.981851+0.00302812\n",
      "[250]\ttrain-rmse:0.955551+0.00214765\ttest-rmse:0.978576+0.00304557\n",
      "[300]\ttrain-rmse:0.949496+0.0019894\ttest-rmse:0.976377+0.00323138\n",
      "[350]\ttrain-rmse:0.944869+0.00186257\ttest-rmse:0.975729+0.00326639\n",
      "[400]\ttrain-rmse:0.940706+0.00194792\ttest-rmse:0.975338+0.00309226\n",
      "[450]\ttrain-rmse:0.936708+0.00196992\ttest-rmse:0.975009+0.00305903\n",
      "[499]\ttrain-rmse:0.93321+0.00191724\ttest-rmse:0.975031+0.0031558\n"
     ]
    }
   ],
   "source": [
    "params = {'colsample_bytree': 0.7,'subsample':0.8,'learning_rate': 0.1,'max_depth': 5}\n",
    "\n",
    "cv_results = xgb.cv(dtrain=xgb.DMatrix(data = X_train , label = Y_train), params=params, nfold=3\n",
    "                    ,num_boost_round=500,early_stopping_rounds=50,metrics=\"rmse\",as_pandas=True\n",
    "                    , seed=123 ,verbose_eval=50)"
   ]
  },
  {
   "cell_type": "code",
   "execution_count": 458,
   "metadata": {},
   "outputs": [],
   "source": [
    "#setting parameters for xgboost\n",
    "parameters={'max_depth':5, 'silent':1,'eval_metric':'rmse'\n",
    "            ,'learning_rate':.1, 'colsample_bytree' : 0.7,'seed':123}\n",
    "num_round=600"
   ]
  },
  {
   "cell_type": "code",
   "execution_count": 459,
   "metadata": {},
   "outputs": [],
   "source": [
    "dtrain=xgb.DMatrix(data = X_train,label = Y_train)"
   ]
  },
  {
   "cell_type": "code",
   "execution_count": 460,
   "metadata": {},
   "outputs": [],
   "source": [
    "#training our model \n",
    "xgb_model=xgb.train(parameters,dtrain,num_round)"
   ]
  },
  {
   "cell_type": "code",
   "execution_count": 461,
   "metadata": {},
   "outputs": [],
   "source": [
    "xgb_train = xgb_model.predict(dtrain)"
   ]
  },
  {
   "cell_type": "code",
   "execution_count": 462,
   "metadata": {},
   "outputs": [],
   "source": [
    "rmse = np.sqrt(mean_squared_error(y_true = Y_train , y_pred = xgb_train)) "
   ]
  },
  {
   "cell_type": "code",
   "execution_count": 463,
   "metadata": {},
   "outputs": [
    {
     "data": {
      "text/plain": [
       "0.9361655225293107"
      ]
     },
     "execution_count": 463,
     "metadata": {},
     "output_type": "execute_result"
    }
   ],
   "source": [
    "rmse"
   ]
  },
  {
   "cell_type": "code",
   "execution_count": 464,
   "metadata": {},
   "outputs": [
    {
     "data": {
      "text/plain": [
       "<matplotlib.axes._subplots.AxesSubplot at 0x223047588>"
      ]
     },
     "execution_count": 464,
     "metadata": {},
     "output_type": "execute_result"
    },
    {
     "data": {
      "image/png": "[encoded data removed]",
      "text/plain": [
       "<Figure size 432x288 with 1 Axes>"
      ]
     },
     "metadata": {
      "needs_background": "light"
     },
     "output_type": "display_data"
    }
   ],
   "source": [
    "xgb.plot_importance(xgb_model,height=0.5,max_num_features=25)"
   ]
  },
  {
   "cell_type": "code",
   "execution_count": 465,
   "metadata": {},
   "outputs": [],
   "source": [
    "test_Pk = X_test.reservation_id\n",
    "dtest = xgb.DMatrix(X_test.drop([\"reservation_id\"],axis=1)) "
   ]
  },
  {
   "cell_type": "code",
   "execution_count": 466,
   "metadata": {},
   "outputs": [],
   "source": [
    "y_test = xgb_model.predict(dtest)"
   ]
  },
  {
   "cell_type": "code",
   "execution_count": 467,
   "metadata": {},
   "outputs": [],
   "source": [
    "sub = pd.DataFrame({'reservation_id':test_Pk , 'amount_spent_per_room_night_scaled':y_test})\n",
    "sub.to_csv('xgb_8.csv',index=None)"
   ]
  },
  {
   "cell_type": "code",
   "execution_count": null,
   "metadata": {},
   "outputs": [],
   "source": []
  }
 ],
 "metadata": {
  "kernelspec": {
   "display_name": "Python 3",
   "language": "python",
   "name": "python3"
  },
  "language_info": {
   "codemirror_mode": {
    "name": "ipython",
    "version": 3
   },
   "file_extension": ".py",
   "mimetype": "text/x-python",
   "name": "python",
   "nbconvert_exporter": "python",
   "pygments_lexer": "ipython3",
   "version": "3.7.1"
  }
 },
 "nbformat": 4,
 "nbformat_minor": 2
}
